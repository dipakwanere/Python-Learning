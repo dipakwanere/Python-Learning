{
 "cells": [
  {
   "cell_type": "code",
   "execution_count": 1,
   "id": "e6d73184",
   "metadata": {},
   "outputs": [],
   "source": [
    "###     Importing >py file as a module in another .py file\n",
    "\n",
    "###    Here, my_module.py file has a funcntion stored in same directory and\n",
    "###     calling that .py file here for furthur use \n",
    "   "
   ]
  },
  {
   "cell_type": "markdown",
   "id": "cb04ad44",
   "metadata": {},
   "source": [
    "### Way 1: To import Module from same Directory"
   ]
  },
  {
   "cell_type": "code",
   "execution_count": 11,
   "id": "10cfecbb",
   "metadata": {},
   "outputs": [],
   "source": [
    "import my_module as mm\n",
    "# or\n",
    "from my_module import find_index # for importing the specific function from module\n",
    "# or from my_module import *"
   ]
  },
  {
   "cell_type": "code",
   "execution_count": 12,
   "id": "e1395f1a",
   "metadata": {},
   "outputs": [
    {
     "name": "stdout",
     "output_type": "stream",
     "text": [
      "2\n"
     ]
    }
   ],
   "source": [
    "cources = ['Python','Math','SQL','Tableau','ML']\n",
    "index = mm.find_index(cources, \"SQL\")\n",
    "print(index)"
   ]
  },
  {
   "cell_type": "code",
   "execution_count": 14,
   "id": "ffd64714",
   "metadata": {},
   "outputs": [
    {
     "name": "stdout",
     "output_type": "stream",
     "text": [
      "['C:\\\\Users\\\\dipak\\\\2023\\\\Python_Corey', 'C:\\\\Users\\\\dipak\\\\anaconda3\\\\python39.zip', 'C:\\\\Users\\\\dipak\\\\anaconda3\\\\DLLs', 'C:\\\\Users\\\\dipak\\\\anaconda3\\\\lib', 'C:\\\\Users\\\\dipak\\\\anaconda3', '', 'C:\\\\Users\\\\dipak\\\\anaconda3\\\\lib\\\\site-packages', 'C:\\\\Users\\\\dipak\\\\anaconda3\\\\lib\\\\site-packages\\\\locket-0.2.1-py3.9.egg', 'C:\\\\Users\\\\dipak\\\\anaconda3\\\\lib\\\\site-packages\\\\win32', 'C:\\\\Users\\\\dipak\\\\anaconda3\\\\lib\\\\site-packages\\\\win32\\\\lib', 'C:\\\\Users\\\\dipak\\\\anaconda3\\\\lib\\\\site-packages\\\\Pythonwin', 'C:\\\\Users\\\\dipak\\\\anaconda3\\\\lib\\\\site-packages\\\\IPython\\\\extensions', 'C:\\\\Users\\\\dipak\\\\.ipython']\n"
     ]
    }
   ],
   "source": [
    "#  for finding the import module path \n",
    "import sys\n",
    "print(sys.path)"
   ]
  },
  {
   "cell_type": "markdown",
   "id": "eacc8b0f",
   "metadata": {},
   "source": [
    "### Way 2: To import Module from different Directory"
   ]
  },
  {
   "cell_type": "code",
   "execution_count": 16,
   "id": "46bd7e09",
   "metadata": {},
   "outputs": [
    {
     "name": "stdout",
     "output_type": "stream",
     "text": [
      "2\n"
     ]
    }
   ],
   "source": [
    "# To import the module from the another directory or in different location in computer\n",
    "\n",
    "import sys    ## To get the system path for specified module\n",
    "sys.path.append('/Users/dipak/2023')\n",
    "\n",
    "import my_module as mm\n",
    "cources = ['Python','Math','SQL','Tableau','ML']\n",
    "index = mm.find_index(cources, \"SQL\")\n",
    "print(index)"
   ]
  },
  {
   "cell_type": "markdown",
   "id": "7370fab5",
   "metadata": {},
   "source": [
    "### Way 3: To import Module from same Directory\n"
   ]
  },
  {
   "cell_type": "markdown",
   "id": "256ef5ab",
   "metadata": {},
   "source": [
    "- Setting the New Environment Variable for Python in windows\n",
    "\n",
    "\n",
    "- Click on Start button\n",
    "- Right click on my computer\n",
    "- Go to Properties\n",
    "- Go to Advanced system setting\n",
    "- click on \"Environment Variable\"\n",
    "- Create New Env Variable\n",
    "\n",
    "- Variable name = PYTHONPATH\n",
    "- Variable Path = C:\\User\\dipak\\Desktop\\my_module\n",
    "- click OK\n",
    "- OK to save. and It's Done...!!!\n",
    "\n"
   ]
  },
  {
   "cell_type": "markdown",
   "id": "9c4b31dd",
   "metadata": {},
   "source": [
    "### standard library of random"
   ]
  },
  {
   "cell_type": "code",
   "execution_count": 25,
   "id": "66b358a1",
   "metadata": {},
   "outputs": [
    {
     "name": "stdout",
     "output_type": "stream",
     "text": [
      "Tableau\n"
     ]
    }
   ],
   "source": [
    "# Every time we run the below code we will get the random different value\n",
    "import random\n",
    "cources = ['Python','Math','SQL','Tableau','ML']\n",
    "random_cources = random.choice(cources)\n",
    "\n",
    "print(random_cources)"
   ]
  },
  {
   "cell_type": "markdown",
   "id": "f07087c1",
   "metadata": {},
   "source": [
    "### Standard Math Module - To perform the mathematical operations"
   ]
  },
  {
   "cell_type": "code",
   "execution_count": 26,
   "id": "74fb94ae",
   "metadata": {},
   "outputs": [
    {
     "name": "stdout",
     "output_type": "stream",
     "text": [
      "1.0\n"
     ]
    }
   ],
   "source": [
    "import math\n",
    "rads = math.radians(90)\n",
    "print(math.sin(rads))\n"
   ]
  },
  {
   "cell_type": "markdown",
   "id": "8d48b501",
   "metadata": {},
   "source": [
    "### datetime - allow us to work with date and time"
   ]
  },
  {
   "cell_type": "code",
   "execution_count": 29,
   "id": "05388c9d",
   "metadata": {},
   "outputs": [
    {
     "name": "stdout",
     "output_type": "stream",
     "text": [
      "2023-01-05\n"
     ]
    }
   ],
   "source": [
    "import datetime\n",
    "import calendar\n",
    "\n",
    "today = datetime.date.today()\n",
    "print(today)"
   ]
  },
  {
   "cell_type": "code",
   "execution_count": 33,
   "id": "a5fb12fe",
   "metadata": {},
   "outputs": [
    {
     "name": "stdout",
     "output_type": "stream",
     "text": [
      "True\n"
     ]
    }
   ],
   "source": [
    "print(calendar.isleap(2028))"
   ]
  },
  {
   "cell_type": "markdown",
   "id": "d1ebd341",
   "metadata": {},
   "source": [
    "### OS Module"
   ]
  },
  {
   "cell_type": "code",
   "execution_count": 36,
   "id": "665f620a",
   "metadata": {},
   "outputs": [
    {
     "name": "stdout",
     "output_type": "stream",
     "text": [
      "C:\\Users\\dipak\\2023\\Python_Corey\n"
     ]
    }
   ],
   "source": [
    "import os\n",
    "path = os.getcwd()\n",
    "print(path)"
   ]
  },
  {
   "cell_type": "code",
   "execution_count": 37,
   "id": "b197b9b6",
   "metadata": {},
   "outputs": [
    {
     "name": "stdout",
     "output_type": "stream",
     "text": [
      "C:\\Users\\dipak\\anaconda3\\lib\\os.py\n"
     ]
    }
   ],
   "source": [
    "print(os.__file__)"
   ]
  },
  {
   "cell_type": "markdown",
   "id": "dd581d6c",
   "metadata": {},
   "source": [
    "# Explore - antigravity module for opening the comic book"
   ]
  },
  {
   "cell_type": "code",
   "execution_count": null,
   "id": "102a4bb1",
   "metadata": {},
   "outputs": [],
   "source": []
  },
  {
   "cell_type": "code",
   "execution_count": null,
   "id": "fc78870f",
   "metadata": {},
   "outputs": [],
   "source": []
  }
 ],
 "metadata": {
  "kernelspec": {
   "display_name": "Python 3 (ipykernel)",
   "language": "python",
   "name": "python3"
  },
  "language_info": {
   "codemirror_mode": {
    "name": "ipython",
    "version": 3
   },
   "file_extension": ".py",
   "mimetype": "text/x-python",
   "name": "python",
   "nbconvert_exporter": "python",
   "pygments_lexer": "ipython3",
   "version": "3.9.7"
  }
 },
 "nbformat": 4,
 "nbformat_minor": 5
}
