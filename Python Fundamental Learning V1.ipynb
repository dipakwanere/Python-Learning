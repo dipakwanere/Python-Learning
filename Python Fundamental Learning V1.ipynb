{
 "cells": [
  {
   "cell_type": "markdown",
   "id": "65e23d08",
   "metadata": {},
   "source": [
    "- Setup and Installation of IDE"
   ]
  },
  {
   "cell_type": "code",
   "execution_count": null,
   "id": "96c6df6c",
   "metadata": {},
   "outputs": [],
   "source": []
  },
  {
   "cell_type": "code",
   "execution_count": null,
   "id": "d45e4002",
   "metadata": {},
   "outputs": [],
   "source": []
  },
  {
   "cell_type": "code",
   "execution_count": null,
   "id": "aee10792",
   "metadata": {},
   "outputs": [],
   "source": []
  },
  {
   "cell_type": "code",
   "execution_count": null,
   "id": "f5a7d4ce",
   "metadata": {},
   "outputs": [],
   "source": []
  },
  {
   "cell_type": "code",
   "execution_count": null,
   "id": "c3b248c6",
   "metadata": {},
   "outputs": [],
   "source": []
  },
  {
   "cell_type": "markdown",
   "id": "c285f4b0",
   "metadata": {},
   "source": [
    "## String Variables"
   ]
  },
  {
   "cell_type": "code",
   "execution_count": 1,
   "id": "e14f7854",
   "metadata": {},
   "outputs": [
    {
     "name": "stdout",
     "output_type": "stream",
     "text": [
      " hey there...!!! how are you?\n"
     ]
    }
   ],
   "source": [
    "message1 =\" hey there...!!! how are you?\"\n",
    "print(message1)"
   ]
  },
  {
   "cell_type": "code",
   "execution_count": 2,
   "id": "8998e61c",
   "metadata": {},
   "outputs": [
    {
     "name": "stdout",
     "output_type": "stream",
     "text": [
      "hey there...Bobby's..!!!\n",
      " how are you?\n"
     ]
    }
   ],
   "source": [
    "message ='hey there...Bobby\\'s..!!!\\n how are you?'\n",
    "print(message)"
   ]
  },
  {
   "cell_type": "code",
   "execution_count": 35,
   "id": "3e89abb0",
   "metadata": {},
   "outputs": [
    {
     "name": "stdout",
     "output_type": "stream",
     "text": [
      "hey there... Bobby's..!!! how are you?\n"
     ]
    }
   ],
   "source": [
    "message =\"hey there...\\\n",
    " Bobby's..!!! \\\n",
    "how are you?\"\n",
    "print(message)"
   ]
  },
  {
   "cell_type": "code",
   "execution_count": 36,
   "id": "73ab4b98",
   "metadata": {},
   "outputs": [
    {
     "name": "stdout",
     "output_type": "stream",
     "text": [
      "hey there... Bobby's..!!! how are you?\n"
     ]
    }
   ],
   "source": [
    "message1 ='''hey there...\n",
    "Bobby's..!!! \n",
    "how are you?'''\n",
    "print(message)"
   ]
  },
  {
   "cell_type": "code",
   "execution_count": 37,
   "id": "e3d96339",
   "metadata": {},
   "outputs": [
    {
     "name": "stdout",
     "output_type": "stream",
     "text": [
      "38\n"
     ]
    }
   ],
   "source": [
    "# Len() function with string variable\n",
    "\n",
    "print(len(message))"
   ]
  },
  {
   "cell_type": "code",
   "execution_count": 38,
   "id": "e6f3dec3",
   "metadata": {},
   "outputs": [
    {
     "data": {
      "text/plain": [
       "'Bobby'"
      ]
     },
     "execution_count": 38,
     "metadata": {},
     "output_type": "execute_result"
    }
   ],
   "source": [
    "# String indexing is possible\n",
    "\n",
    "message[13:18]"
   ]
  },
  {
   "cell_type": "code",
   "execution_count": 42,
   "id": "52345645",
   "metadata": {},
   "outputs": [
    {
     "data": {
      "text/plain": [
       "' hey there...!!! how are you?'"
      ]
     },
     "execution_count": 42,
     "metadata": {},
     "output_type": "execute_result"
    }
   ],
   "source": [
    "message1.lower()"
   ]
  },
  {
   "cell_type": "code",
   "execution_count": 43,
   "id": "8ca4c5e9",
   "metadata": {},
   "outputs": [
    {
     "data": {
      "text/plain": [
       "' HEY THERE...!!! HOW ARE YOU?'"
      ]
     },
     "execution_count": 43,
     "metadata": {},
     "output_type": "execute_result"
    }
   ],
   "source": [
    "message1.upper()"
   ]
  },
  {
   "cell_type": "code",
   "execution_count": 46,
   "id": "1244ff09",
   "metadata": {},
   "outputs": [
    {
     "data": {
      "text/plain": [
       "3"
      ]
     },
     "execution_count": 46,
     "metadata": {},
     "output_type": "execute_result"
    }
   ],
   "source": [
    "message1.count('h')"
   ]
  },
  {
   "cell_type": "code",
   "execution_count": 50,
   "id": "63023f41",
   "metadata": {},
   "outputs": [
    {
     "data": {
      "text/plain": [
       "1"
      ]
     },
     "execution_count": 50,
     "metadata": {},
     "output_type": "execute_result"
    }
   ],
   "source": [
    "message1.find('hey')"
   ]
  },
  {
   "cell_type": "code",
   "execution_count": 54,
   "id": "c24a60aa",
   "metadata": {},
   "outputs": [
    {
     "name": "stdout",
     "output_type": "stream",
     "text": [
      " hey thereGood Morning how are you?\n"
     ]
    }
   ],
   "source": [
    "# replace method\n",
    "new_message = message1.replace('...!!!','Good Morning')\n",
    "print(new_message)"
   ]
  },
  {
   "cell_type": "code",
   "execution_count": null,
   "id": "a9e26b41",
   "metadata": {},
   "outputs": [],
   "source": [
    "# Concatinate string"
   ]
  },
  {
   "cell_type": "code",
   "execution_count": 58,
   "id": "8c8e8b6a",
   "metadata": {},
   "outputs": [
    {
     "name": "stdout",
     "output_type": "stream",
     "text": [
      "hello Dipak\n"
     ]
    }
   ],
   "source": [
    "# for Short string its ok bt not for long strings\n",
    "greeting = 'hello'\n",
    "name = 'Dipak'\n",
    "message = greeting +' '+ name\n",
    "print(message)"
   ]
  },
  {
   "cell_type": "code",
   "execution_count": 59,
   "id": "8dd2d5f8",
   "metadata": {},
   "outputs": [
    {
     "name": "stdout",
     "output_type": "stream",
     "text": [
      "hello,Dipak. Welcome to Python\n"
     ]
    }
   ],
   "source": [
    "greeting = 'hello'\n",
    "name = 'Dipak'\n",
    "message = '{},{}. Welcome to Python'.format(greeting,name)\n",
    "print(message)"
   ]
  },
  {
   "cell_type": "code",
   "execution_count": 62,
   "id": "e58de9d4",
   "metadata": {},
   "outputs": [
    {
     "name": "stdout",
     "output_type": "stream",
     "text": [
      "hello,DIPAK.... Welcome to Python\n"
     ]
    }
   ],
   "source": [
    "# F string examples\n",
    "greeting = 'hello'\n",
    "name = 'Dipak'\n",
    "message = f'{greeting},{name.upper()}.... Welcome to Python'\n",
    "print(message)\n"
   ]
  },
  {
   "cell_type": "code",
   "execution_count": 65,
   "id": "1cc114a4",
   "metadata": {
    "scrolled": false
   },
   "outputs": [
    {
     "name": "stdout",
     "output_type": "stream",
     "text": [
      "['__add__', '__class__', '__contains__', '__delattr__', '__dir__', '__doc__', '__eq__', '__format__', '__ge__', '__getattribute__', '__getitem__', '__getnewargs__', '__gt__', '__hash__', '__init__', '__init_subclass__', '__iter__', '__le__', '__len__', '__lt__', '__mod__', '__mul__', '__ne__', '__new__', '__reduce__', '__reduce_ex__', '__repr__', '__rmod__', '__rmul__', '__setattr__', '__sizeof__', '__str__', '__subclasshook__', 'capitalize', 'casefold', 'center', 'count', 'encode', 'endswith', 'expandtabs', 'find', 'format', 'format_map', 'index', 'isalnum', 'isalpha', 'isascii', 'isdecimal', 'isdigit', 'isidentifier', 'islower', 'isnumeric', 'isprintable', 'isspace', 'istitle', 'isupper', 'join', 'ljust', 'lower', 'lstrip', 'maketrans', 'partition', 'removeprefix', 'removesuffix', 'replace', 'rfind', 'rindex', 'rjust', 'rpartition', 'rsplit', 'rstrip', 'split', 'splitlines', 'startswith', 'strip', 'swapcase', 'title', 'translate', 'upper', 'zfill']\n"
     ]
    }
   ],
   "source": [
    "# Use Ful methods\n",
    "print(dir(name))\n",
    "# print(help(str))"
   ]
  },
  {
   "cell_type": "markdown",
   "id": "cb3e0539",
   "metadata": {},
   "source": [
    "## Numerical Data"
   ]
  },
  {
   "cell_type": "code",
   "execution_count": 69,
   "id": "440764ac",
   "metadata": {},
   "outputs": [
    {
     "name": "stdout",
     "output_type": "stream",
     "text": [
      "<class 'int'>\n"
     ]
    }
   ],
   "source": [
    "num = 3\n",
    "print(type(num))"
   ]
  },
  {
   "cell_type": "code",
   "execution_count": 71,
   "id": "c357cf02",
   "metadata": {},
   "outputs": [
    {
     "name": "stdout",
     "output_type": "stream",
     "text": [
      "10\n",
      "6\n",
      "16\n",
      "4.0\n",
      "4\n",
      "64\n",
      "0\n"
     ]
    }
   ],
   "source": [
    "num1 = 8\n",
    "num2 = 2\n",
    "\n",
    "addition  = num1 + num2\n",
    "subtract = num1 - num2\n",
    "multiplication = num1 * num2\n",
    "division = num1 / num2\n",
    "floor_divison = num1 // num2\n",
    "exponent = num1 ** num2\n",
    "Modulus = num1 % num2\n",
    "print(addition)\n",
    "print(subtract)\n",
    "print(multiplication)\n",
    "print(division)\n",
    "print(floor_divison)\n",
    "print(exponent)\n",
    "print(Modulus)"
   ]
  },
  {
   "cell_type": "markdown",
   "id": "1f7826bd",
   "metadata": {},
   "source": [
    "- python follows the BODMOS rule for arithmatic operations"
   ]
  },
  {
   "cell_type": "markdown",
   "id": "537a1000",
   "metadata": {},
   "source": [
    "### Comparison Operations"
   ]
  },
  {
   "cell_type": "code",
   "execution_count": 73,
   "id": "abc815b7",
   "metadata": {},
   "outputs": [
    {
     "name": "stdout",
     "output_type": "stream",
     "text": [
      "False\n",
      "True\n",
      "True\n",
      "False\n",
      "True\n",
      "False\n"
     ]
    }
   ],
   "source": [
    "num1 = 8\n",
    "num2 = 2\n",
    "\n",
    "equal  = num1 == num2\n",
    "not_equal = num1 != num2\n",
    "greater_than = num1 > num2\n",
    "less_than = num1 < num2\n",
    "greater_than_equal_to = num1 >= num2\n",
    "less_than_equal_to = num1 <= num2\n",
    "print(equal)\n",
    "print(not_equal)\n",
    "print(greater_than)\n",
    "print(less_than)\n",
    "print(greater_than_equal_to)\n",
    "print(less_than_equal_to)\n"
   ]
  },
  {
   "cell_type": "markdown",
   "id": "7bcfc701",
   "metadata": {},
   "source": [
    "### Type Casting"
   ]
  },
  {
   "cell_type": "code",
   "execution_count": 76,
   "id": "4ea0662e",
   "metadata": {},
   "outputs": [
    {
     "name": "stdout",
     "output_type": "stream",
     "text": [
      "1200\n"
     ]
    }
   ],
   "source": [
    "num_1 = '500'\n",
    "num_2 = '700'\n",
    "\n",
    "num_1 = int(num_1)\n",
    "num_2 = int(num_2)\n",
    "\n",
    "print(num_1 + num_2)"
   ]
  },
  {
   "cell_type": "markdown",
   "id": "2c425c67",
   "metadata": {},
   "source": [
    "## List, Tuples, Dict and Sets"
   ]
  },
  {
   "cell_type": "code",
   "execution_count": 101,
   "id": "92ede0b4",
   "metadata": {},
   "outputs": [],
   "source": [
    "cources = ['python','sql','ml','msexcel','tableau']"
   ]
  },
  {
   "cell_type": "code",
   "execution_count": 102,
   "id": "45f4c579",
   "metadata": {},
   "outputs": [
    {
     "name": "stdout",
     "output_type": "stream",
     "text": [
      "['python', 'sql', 'ml', 'msexcel', 'tableau']\n"
     ]
    }
   ],
   "source": [
    "print(cources)"
   ]
  },
  {
   "cell_type": "code",
   "execution_count": 103,
   "id": "2cb8248e",
   "metadata": {},
   "outputs": [
    {
     "data": {
      "text/plain": [
       "'sql'"
      ]
     },
     "execution_count": 103,
     "metadata": {},
     "output_type": "execute_result"
    }
   ],
   "source": [
    "cources[1]"
   ]
  },
  {
   "cell_type": "code",
   "execution_count": 104,
   "id": "7b920314",
   "metadata": {},
   "outputs": [
    {
     "data": {
      "text/plain": [
       "'tableau'"
      ]
     },
     "execution_count": 104,
     "metadata": {},
     "output_type": "execute_result"
    }
   ],
   "source": [
    "cources[-1]"
   ]
  },
  {
   "cell_type": "markdown",
   "id": "1466b339",
   "metadata": {},
   "source": [
    "- updating the list content\n",
    "- we can use append or insert\n",
    "- insert takes 2 arguments while append takes only 1"
   ]
  },
  {
   "cell_type": "code",
   "execution_count": 105,
   "id": "5b9e65e5",
   "metadata": {},
   "outputs": [],
   "source": [
    "cources.append('Beta')\n",
    "# append will update the list from the end"
   ]
  },
  {
   "cell_type": "code",
   "execution_count": 106,
   "id": "0ce5fb19",
   "metadata": {},
   "outputs": [
    {
     "data": {
      "text/plain": [
       "['python', 'sql', 'ml', 'msexcel', 'tableau', 'Beta']"
      ]
     },
     "execution_count": 106,
     "metadata": {},
     "output_type": "execute_result"
    }
   ],
   "source": [
    "cources"
   ]
  },
  {
   "cell_type": "code",
   "execution_count": 107,
   "id": "c1860260",
   "metadata": {},
   "outputs": [],
   "source": [
    "cources.insert(1,'Math')\n",
    "# insert takes 2 args -- 1st is at which index you want to insert\n",
    "# and 2nd is value"
   ]
  },
  {
   "cell_type": "code",
   "execution_count": 108,
   "id": "67d9a813",
   "metadata": {},
   "outputs": [
    {
     "data": {
      "text/plain": [
       "['python', 'Math', 'sql', 'ml', 'msexcel', 'tableau', 'Beta']"
      ]
     },
     "execution_count": 108,
     "metadata": {},
     "output_type": "execute_result"
    }
   ],
   "source": [
    "cources"
   ]
  },
  {
   "cell_type": "code",
   "execution_count": 109,
   "id": "f4758acd",
   "metadata": {},
   "outputs": [],
   "source": [
    "cources_2 = ['Art', 'Edu', 'Practice']"
   ]
  },
  {
   "cell_type": "code",
   "execution_count": 142,
   "id": "901408ef",
   "metadata": {},
   "outputs": [],
   "source": [
    "# extend method used to add multiple values in list to extend the list \n",
    "\n",
    "cources.extend(cources_2)\n"
   ]
  },
  {
   "cell_type": "code",
   "execution_count": 143,
   "id": "d34b0841",
   "metadata": {},
   "outputs": [
    {
     "name": "stdout",
     "output_type": "stream",
     "text": [
      "['tableau', 'sql', 'python', 'msexcel', 'ml', 'Practice', 'Math', 'Edu', 'Beta', 'Art', 'Art', 'Edu', 'Practice', 'Art', 'Edu', 'Practice']\n"
     ]
    }
   ],
   "source": [
    "print(cources)"
   ]
  },
  {
   "cell_type": "code",
   "execution_count": 112,
   "id": "eb7104c7",
   "metadata": {},
   "outputs": [
    {
     "data": {
      "text/plain": [
       "1"
      ]
     },
     "execution_count": 112,
     "metadata": {},
     "output_type": "execute_result"
    }
   ],
   "source": [
    "cources.count('Practice')"
   ]
  },
  {
   "cell_type": "code",
   "execution_count": 115,
   "id": "ba60f3db",
   "metadata": {},
   "outputs": [],
   "source": [
    "cources.sort(reverse=True)\n",
    "#cources.clear()"
   ]
  },
  {
   "cell_type": "code",
   "execution_count": 116,
   "id": "61b6c015",
   "metadata": {},
   "outputs": [
    {
     "name": "stdout",
     "output_type": "stream",
     "text": [
      "['tableau', 'sql', 'python', 'msexcel', 'ml', 'Practice', 'Math', 'Edu', 'Beta', 'Art']\n"
     ]
    }
   ],
   "source": [
    "print(cources)"
   ]
  },
  {
   "cell_type": "code",
   "execution_count": 118,
   "id": "36db57ae",
   "metadata": {},
   "outputs": [],
   "source": [
    " sor= sorted(cources)"
   ]
  },
  {
   "cell_type": "code",
   "execution_count": 119,
   "id": "352fa717",
   "metadata": {},
   "outputs": [
    {
     "name": "stdout",
     "output_type": "stream",
     "text": [
      "['Art', 'Beta', 'Edu', 'Math', 'Practice', 'ml', 'msexcel', 'python', 'sql', 'tableau']\n"
     ]
    }
   ],
   "source": [
    "print(sor)"
   ]
  },
  {
   "cell_type": "code",
   "execution_count": 120,
   "id": "c2cca6fb",
   "metadata": {},
   "outputs": [],
   "source": [
    "# loop with list\n"
   ]
  },
  {
   "cell_type": "code",
   "execution_count": 125,
   "id": "f65fa0c4",
   "metadata": {},
   "outputs": [
    {
     "name": "stdout",
     "output_type": "stream",
     "text": [
      "tableau\n",
      "sql\n",
      "python\n",
      "msexcel\n",
      "ml\n",
      "Practice\n",
      "Math\n",
      "Edu\n",
      "Beta\n",
      "Art\n"
     ]
    }
   ],
   "source": [
    "for item in cources:\n",
    "    print(item)"
   ]
  },
  {
   "cell_type": "code",
   "execution_count": 129,
   "id": "36bfaab3",
   "metadata": {},
   "outputs": [
    {
     "name": "stdout",
     "output_type": "stream",
     "text": [
      "(0, 'tableau')\n",
      "(1, 'sql')\n",
      "(2, 'python')\n",
      "(3, 'msexcel')\n",
      "(4, 'ml')\n",
      "(5, 'Practice')\n",
      "(6, 'Math')\n",
      "(7, 'Edu')\n",
      "(8, 'Beta')\n",
      "(9, 'Art')\n"
     ]
    }
   ],
   "source": [
    "for item in enumerate(cources):\n",
    "    print(item)"
   ]
  },
  {
   "cell_type": "code",
   "execution_count": 128,
   "id": "f17b6dc4",
   "metadata": {},
   "outputs": [
    {
     "name": "stdout",
     "output_type": "stream",
     "text": [
      "1 tableau\n",
      "2 sql\n",
      "3 python\n",
      "4 msexcel\n",
      "5 ml\n",
      "6 Practice\n",
      "7 Math\n",
      "8 Edu\n",
      "9 Beta\n",
      "10 Art\n"
     ]
    }
   ],
   "source": [
    "for index,item in enumerate(cources, start=1):\n",
    "    print(index,item)"
   ]
  },
  {
   "cell_type": "code",
   "execution_count": 136,
   "id": "3bb28c28",
   "metadata": {},
   "outputs": [
    {
     "name": "stdout",
     "output_type": "stream",
     "text": [
      "tableau, sql, python, msexcel, ml, Practice, Math, Edu, Beta, Art\n",
      "['tableau, sql, python, msexcel, ml, Practice, Math, Edu, Beta, Art']\n"
     ]
    }
   ],
   "source": [
    "# converting comma seperated string from the List and vise versa\n",
    "cource_str = ', '.join(cources)\n",
    "print(cource_str)\n",
    "\n",
    "# Converting back to list\n",
    "new_list = cource_str.split(' - ')\n",
    "print(new_list)"
   ]
  },
  {
   "cell_type": "markdown",
   "id": "c76add45",
   "metadata": {},
   "source": [
    "#### tuples"
   ]
  },
  {
   "cell_type": "markdown",
   "id": "8c61dfa2",
   "metadata": {},
   "source": [
    "- tuples are immutable"
   ]
  },
  {
   "cell_type": "code",
   "execution_count": 138,
   "id": "dbf23daf",
   "metadata": {},
   "outputs": [],
   "source": [
    "tup = ('tableau, sql, python, msexcel, ml, Practice, Math, Edu, Beta, Art')"
   ]
  },
  {
   "cell_type": "code",
   "execution_count": 139,
   "id": "d5a23bbb",
   "metadata": {},
   "outputs": [
    {
     "name": "stdout",
     "output_type": "stream",
     "text": [
      "tableau, sql, python, msexcel, ml, Practice, Math, Edu, Beta, Art\n"
     ]
    }
   ],
   "source": [
    "print(tup)"
   ]
  },
  {
   "cell_type": "markdown",
   "id": "8190dd47",
   "metadata": {},
   "source": [
    "#### Sets"
   ]
  },
  {
   "cell_type": "markdown",
   "id": "669718cd",
   "metadata": {},
   "source": [
    "- sets are mutable bt it does not care about order and gives only unique values\n",
    "\n"
   ]
  },
  {
   "cell_type": "code",
   "execution_count": 144,
   "id": "99bbe31f",
   "metadata": {},
   "outputs": [],
   "source": [
    "set_cources = {'tableau', 'sql', 'python', 'msexcel', 'ml', 'Practice', 'Math', 'Edu', 'Beta', 'Art', 'Art', 'Edu', 'Practice', 'Art', 'Edu', 'Practice'}"
   ]
  },
  {
   "cell_type": "code",
   "execution_count": 145,
   "id": "7cc321d6",
   "metadata": {},
   "outputs": [
    {
     "name": "stdout",
     "output_type": "stream",
     "text": [
      "{'Edu', 'Art', 'Math', 'python', 'tableau', 'sql', 'msexcel', 'Beta', 'Practice', 'ml'}\n"
     ]
    }
   ],
   "source": [
    "print(set_cources)"
   ]
  },
  {
   "cell_type": "code",
   "execution_count": 146,
   "id": "f12b2a10",
   "metadata": {},
   "outputs": [],
   "source": [
    "# Creating the empty list, tuples and set"
   ]
  },
  {
   "cell_type": "code",
   "execution_count": 147,
   "id": "4ead12b3",
   "metadata": {},
   "outputs": [],
   "source": [
    "# List\n",
    "empty_list = []\n",
    "empty_list = list()\n",
    "\n"
   ]
  },
  {
   "cell_type": "code",
   "execution_count": 148,
   "id": "c76e5f4a",
   "metadata": {},
   "outputs": [],
   "source": [
    "# Tuple\n",
    "empty_tuple = ()\n",
    "empty_tuple = tuple()"
   ]
  },
  {
   "cell_type": "code",
   "execution_count": 149,
   "id": "084bf8b3",
   "metadata": {},
   "outputs": [],
   "source": [
    "# Sets\n",
    "empty_set = {}  # This is not right..!!! Its empty DICT\n",
    "empty_set = set()"
   ]
  },
  {
   "cell_type": "code",
   "execution_count": null,
   "id": "967b7e53",
   "metadata": {},
   "outputs": [],
   "source": []
  },
  {
   "cell_type": "markdown",
   "id": "90f7bbf9",
   "metadata": {},
   "source": [
    "## Python Dictionary"
   ]
  },
  {
   "cell_type": "markdown",
   "id": "f4818198",
   "metadata": {},
   "source": [
    "- Dict work with key value pairs\n",
    "- "
   ]
  },
  {
   "cell_type": "code",
   "execution_count": 58,
   "id": "42b56a6d",
   "metadata": {},
   "outputs": [],
   "source": [
    "student = {'name':'John','Age':25,'Courses':['Math','Python']}"
   ]
  },
  {
   "cell_type": "code",
   "execution_count": 59,
   "id": "5a850aa3",
   "metadata": {},
   "outputs": [
    {
     "name": "stdout",
     "output_type": "stream",
     "text": [
      "{'name': 'John', 'Age': 25, 'Courses': ['Math', 'Python']}\n"
     ]
    }
   ],
   "source": [
    "print(student)"
   ]
  },
  {
   "cell_type": "code",
   "execution_count": 60,
   "id": "3fc92939",
   "metadata": {},
   "outputs": [
    {
     "data": {
      "text/plain": [
       "'John'"
      ]
     },
     "execution_count": 60,
     "metadata": {},
     "output_type": "execute_result"
    }
   ],
   "source": [
    "student['name']\n",
    "#student['1']"
   ]
  },
  {
   "cell_type": "markdown",
   "id": "15fe7b6a",
   "metadata": {},
   "source": [
    " - .get() method "
   ]
  },
  {
   "cell_type": "code",
   "execution_count": 61,
   "id": "6aa46337",
   "metadata": {},
   "outputs": [
    {
     "name": "stdout",
     "output_type": "stream",
     "text": [
      "None\n"
     ]
    }
   ],
   "source": [
    "get_m = student.get('Phone')\n",
    "print(get_m)"
   ]
  },
  {
   "cell_type": "code",
   "execution_count": 62,
   "id": "874b526c",
   "metadata": {},
   "outputs": [],
   "source": [
    "student['phone'] = '555-5555'"
   ]
  },
  {
   "cell_type": "code",
   "execution_count": 63,
   "id": "173d51de",
   "metadata": {},
   "outputs": [
    {
     "name": "stdout",
     "output_type": "stream",
     "text": [
      "{'name': 'John', 'Age': 25, 'Courses': ['Math', 'Python'], 'phone': '555-5555'}\n"
     ]
    }
   ],
   "source": [
    "print(student)"
   ]
  },
  {
   "cell_type": "code",
   "execution_count": 64,
   "id": "31757a6b",
   "metadata": {},
   "outputs": [],
   "source": [
    "# Update the value in dict \n",
    "\n",
    "student.update({'name':'Jane', 'Age': 23,'phone':'555-6666'})"
   ]
  },
  {
   "cell_type": "code",
   "execution_count": 65,
   "id": "bc4cbc5c",
   "metadata": {},
   "outputs": [
    {
     "data": {
      "text/plain": [
       "{'name': 'Jane', 'Age': 23, 'Courses': ['Math', 'Python'], 'phone': '555-6666'}"
      ]
     },
     "execution_count": 65,
     "metadata": {},
     "output_type": "execute_result"
    }
   ],
   "source": [
    "student"
   ]
  },
  {
   "cell_type": "code",
   "execution_count": 66,
   "id": "31bd642c",
   "metadata": {},
   "outputs": [],
   "source": [
    "# delete specific value\n",
    "\n",
    "del student['Age']\n"
   ]
  },
  {
   "cell_type": "code",
   "execution_count": 67,
   "id": "587930a0",
   "metadata": {},
   "outputs": [
    {
     "data": {
      "text/plain": [
       "{'name': 'Jane', 'Courses': ['Math', 'Python'], 'phone': '555-6666'}"
      ]
     },
     "execution_count": 67,
     "metadata": {},
     "output_type": "execute_result"
    }
   ],
   "source": [
    "student"
   ]
  },
  {
   "cell_type": "code",
   "execution_count": 68,
   "id": "d3247c8e",
   "metadata": {},
   "outputs": [
    {
     "name": "stdout",
     "output_type": "stream",
     "text": [
      "555-6666\n"
     ]
    }
   ],
   "source": [
    "# you can also use the pop methodas below\n",
    "age = student.pop(\"phone\")\n",
    "print(age)"
   ]
  },
  {
   "cell_type": "code",
   "execution_count": 75,
   "id": "65b9b41f",
   "metadata": {},
   "outputs": [
    {
     "name": "stdout",
     "output_type": "stream",
     "text": [
      "2\n"
     ]
    }
   ],
   "source": [
    "# to get the lenght  of the dict as per present keys in dict\n",
    "print(len(student))"
   ]
  },
  {
   "cell_type": "code",
   "execution_count": 76,
   "id": "8fbcbb0e",
   "metadata": {},
   "outputs": [
    {
     "name": "stdout",
     "output_type": "stream",
     "text": [
      "dict_keys(['name', 'Courses'])\n"
     ]
    }
   ],
   "source": [
    "# .keys() - method to get all the keys from the dict \n",
    "print(student.keys())"
   ]
  },
  {
   "cell_type": "code",
   "execution_count": 73,
   "id": "2acecde5",
   "metadata": {},
   "outputs": [
    {
     "name": "stdout",
     "output_type": "stream",
     "text": [
      "dict_values(['Jane', ['Math', 'Python']])\n"
     ]
    }
   ],
   "source": [
    "# .values() - method to get all the values from the dict \n",
    "print(student.values())"
   ]
  },
  {
   "cell_type": "code",
   "execution_count": 77,
   "id": "d88e7935",
   "metadata": {},
   "outputs": [
    {
     "name": "stdout",
     "output_type": "stream",
     "text": [
      "dict_items([('name', 'Jane'), ('Courses', ['Math', 'Python'])])\n"
     ]
    }
   ],
   "source": [
    "# .items() - method to get all the keys and values in tuples from the dict \n",
    "\n",
    "print(student.items())"
   ]
  },
  {
   "cell_type": "markdown",
   "id": "b9534d5f",
   "metadata": {},
   "source": [
    "#####  Loop through Dict "
   ]
  },
  {
   "cell_type": "code",
   "execution_count": 78,
   "id": "54cdfb4e",
   "metadata": {},
   "outputs": [
    {
     "name": "stdout",
     "output_type": "stream",
     "text": [
      "name\n",
      "Courses\n"
     ]
    }
   ],
   "source": [
    "for key in student:\n",
    "    print(key)"
   ]
  },
  {
   "cell_type": "code",
   "execution_count": 80,
   "id": "531ac74b",
   "metadata": {},
   "outputs": [
    {
     "name": "stdout",
     "output_type": "stream",
     "text": [
      "name Jane\n",
      "Courses ['Math', 'Python']\n"
     ]
    }
   ],
   "source": [
    "for key,value in student.items():\n",
    "    print(key,value)"
   ]
  },
  {
   "cell_type": "markdown",
   "id": "564e5ccd",
   "metadata": {},
   "source": [
    "### Conditional & Booleans Statements"
   ]
  },
  {
   "cell_type": "code",
   "execution_count": 82,
   "id": "6cfc1624",
   "metadata": {},
   "outputs": [
    {
     "name": "stdout",
     "output_type": "stream",
     "text": [
      "condition was true\n"
     ]
    }
   ],
   "source": [
    "if True:\n",
    "    print(\"condition was true\")"
   ]
  },
  {
   "cell_type": "code",
   "execution_count": 86,
   "id": "b4210d09",
   "metadata": {},
   "outputs": [
    {
     "name": "stdout",
     "output_type": "stream",
     "text": [
      "condition was true\n"
     ]
    }
   ],
   "source": [
    "language = 'python'\n",
    "\n",
    "if language == 'python':\n",
    "    print(\"condition was true\")"
   ]
  },
  {
   "cell_type": "code",
   "execution_count": null,
   "id": "aad7f4a9",
   "metadata": {},
   "outputs": [],
   "source": [
    "## Comparison operators\n",
    "\n",
    "# Equal :  == \n",
    "# Not Equal : != \n",
    "# Greater Than : > \n",
    "# Less Than: < \n",
    "# Greater Than Equal: >= \n",
    "# Less Than_Equal: <= \n",
    "# Object Identity: is\n"
   ]
  },
  {
   "cell_type": "code",
   "execution_count": 87,
   "id": "ff3a75dc",
   "metadata": {},
   "outputs": [
    {
     "name": "stdout",
     "output_type": "stream",
     "text": [
      "langage is python\n"
     ]
    }
   ],
   "source": [
    "# IF-ELSE\n",
    "\n",
    "language = 'python'\n",
    "\n",
    "if language == 'python':\n",
    "    print(\"langage is python\")\n",
    "else:\n",
    "    print('No Match')"
   ]
  },
  {
   "cell_type": "code",
   "execution_count": 90,
   "id": "2de8dd30",
   "metadata": {},
   "outputs": [
    {
     "name": "stdout",
     "output_type": "stream",
     "text": [
      "language is Java\n"
     ]
    }
   ],
   "source": [
    "# IF-ELIF-ELSE\n",
    "\n",
    "language = 'Java'\n",
    "\n",
    "if language == 'Python':\n",
    "    print(\"langage is python\")\n",
    "\n",
    "elif language == 'Java':\n",
    "    print(\"language is Java\")\n",
    "\n",
    "else:\n",
    "    print('No Match')"
   ]
  },
  {
   "cell_type": "markdown",
   "id": "adaf68c0",
   "metadata": {},
   "source": [
    "###### Python does not have switch case statement like other programming languages."
   ]
  },
  {
   "cell_type": "markdown",
   "id": "7b0b9f42",
   "metadata": {},
   "source": [
    "## Boolean Operators\n",
    " - AND\n",
    " - OR\n",
    " - NOT\n"
   ]
  },
  {
   "cell_type": "code",
   "execution_count": 98,
   "id": "3efc9bdc",
   "metadata": {},
   "outputs": [
    {
     "name": "stdout",
     "output_type": "stream",
     "text": [
      "signed in successfully...!!!\n"
     ]
    }
   ],
   "source": [
    "# AND \n",
    "\n",
    "user = 'Admin'\n",
    "logged_in = True\n",
    "\n",
    "\n",
    "if user == 'Admin' and logged_in:\n",
    "    print(\"signed in successfully...!!!\")\n",
    "\n",
    "else:\n",
    "    print(\"Wrong Credentials\")"
   ]
  },
  {
   "cell_type": "code",
   "execution_count": 103,
   "id": "598b026f",
   "metadata": {},
   "outputs": [
    {
     "name": "stdout",
     "output_type": "stream",
     "text": [
      "signed in successfully...!!!\n"
     ]
    }
   ],
   "source": [
    "# OR \n",
    "\n",
    "user = 'Admin'\n",
    "logged_in = True\n",
    "\n",
    "if user == 'Admin' or logged_in:\n",
    "    print(\"signed in successfully...!!!\")\n",
    "\n",
    "else:\n",
    "    print(\"Wrong Credentials\")"
   ]
  },
  {
   "cell_type": "code",
   "execution_count": 106,
   "id": "c02266db",
   "metadata": {},
   "outputs": [
    {
     "name": "stdout",
     "output_type": "stream",
     "text": [
      "Please log in...\n"
     ]
    }
   ],
   "source": [
    "# NOT\n",
    "\n",
    "user = 'Admin'\n",
    "logged_in = False  # True\n",
    "\n",
    "if not logged_in:\n",
    "    print(\"Please log in...\")\n",
    "\n",
    "else:\n",
    "    print(\"Welcome...!!\")"
   ]
  },
  {
   "cell_type": "markdown",
   "id": "8291daa1",
   "metadata": {},
   "source": [
    "###### Object Identity -->  is"
   ]
  },
  {
   "cell_type": "code",
   "execution_count": 114,
   "id": "f6a868e4",
   "metadata": {},
   "outputs": [],
   "source": [
    "a = [1,2,3]\n",
    "b= [1,2,3]"
   ]
  },
  {
   "cell_type": "code",
   "execution_count": 115,
   "id": "7c36fb26",
   "metadata": {},
   "outputs": [
    {
     "name": "stdout",
     "output_type": "stream",
     "text": [
      "2250718813440\n",
      "2250725566144\n",
      "False\n"
     ]
    }
   ],
   "source": [
    "print(id(a))\n",
    "print(id(b))\n",
    "\n",
    "print(a is b)"
   ]
  },
  {
   "cell_type": "markdown",
   "id": "82b769c0",
   "metadata": {},
   "source": [
    "Therefor,"
   ]
  },
  {
   "cell_type": "code",
   "execution_count": 119,
   "id": "e3f93cc7",
   "metadata": {},
   "outputs": [
    {
     "name": "stdout",
     "output_type": "stream",
     "text": [
      "2250722526720\n",
      "2250722526720\n",
      "True\n",
      "True\n"
     ]
    }
   ],
   "source": [
    "a = [1,2,3]\n",
    "b=a\n",
    "print(id(a))\n",
    "print(id(b))\n",
    "\n",
    "print(a is b) \n",
    "# above & below statements are the same \n",
    "print(id(a) == id(b))"
   ]
  },
  {
   "cell_type": "code",
   "execution_count": 135,
   "id": "48642d6f",
   "metadata": {},
   "outputs": [
    {
     "name": "stdout",
     "output_type": "stream",
     "text": [
      "Evaluated to False\n"
     ]
    }
   ],
   "source": [
    "## Flase Values\n",
    "\n",
    "#     False\n",
    "#     None\n",
    "#     Zero of any numeric type like 0 \n",
    "#     Any empty sequense. For example, '', (), [].\n",
    "#     Any empty mapping. For example, {}.\n",
    "\n",
    "    \n",
    "condition = False\n",
    "\n",
    "if condition:\n",
    "    print('Evaluated to True')\n",
    "else:\n",
    "    print('Evaluated to False')\n"
   ]
  },
  {
   "cell_type": "code",
   "execution_count": 136,
   "id": "951bd2b5",
   "metadata": {},
   "outputs": [],
   "source": [
    "## Other than above everything else is true."
   ]
  },
  {
   "cell_type": "markdown",
   "id": "ee555855",
   "metadata": {},
   "source": [
    "## Loops & Iterations - "
   ]
  },
  {
   "cell_type": "markdown",
   "id": "afadb886",
   "metadata": {},
   "source": [
    "#### For Loop - "
   ]
  },
  {
   "cell_type": "code",
   "execution_count": 147,
   "id": "44493262",
   "metadata": {},
   "outputs": [
    {
     "name": "stdout",
     "output_type": "stream",
     "text": [
      "Found\n"
     ]
    }
   ],
   "source": [
    "nums = [1,2,3,4,5,6]\n",
    "\n",
    "for item in nums:\n",
    "    if item == 4:\n",
    "        print(\"Found\")\n",
    "    #print(item)\n",
    "    "
   ]
  },
  {
   "cell_type": "code",
   "execution_count": 148,
   "id": "9f27924d",
   "metadata": {},
   "outputs": [
    {
     "name": "stdout",
     "output_type": "stream",
     "text": [
      "1\n",
      "2\n",
      "3\n",
      "Found\n"
     ]
    }
   ],
   "source": [
    "# break & Continoue statement\n",
    "\n",
    "nums = [1,2,3,4,5,6]\n",
    "\n",
    "for item in nums:\n",
    "    if item == 4:\n",
    "        print(\"Found\")\n",
    "        break\n",
    "    print(item)\n",
    "    "
   ]
  },
  {
   "cell_type": "code",
   "execution_count": 149,
   "id": "5f29ef53",
   "metadata": {},
   "outputs": [
    {
     "name": "stdout",
     "output_type": "stream",
     "text": [
      "1\n",
      "2\n",
      "3\n",
      "Found\n",
      "5\n",
      "6\n"
     ]
    }
   ],
   "source": [
    "nums = [1,2,3,4,5,6]\n",
    "\n",
    "for item in nums:\n",
    "    if item == 4:\n",
    "        print(\"Found\")\n",
    "        continue\n",
    "    print(item)"
   ]
  },
  {
   "cell_type": "code",
   "execution_count": 151,
   "id": "e46f4885",
   "metadata": {},
   "outputs": [
    {
     "name": "stdout",
     "output_type": "stream",
     "text": [
      "1 a\n",
      "1 b\n",
      "1 c\n",
      "2 a\n",
      "2 b\n",
      "2 c\n",
      "3 a\n",
      "3 b\n",
      "3 c\n",
      "4 a\n",
      "4 b\n",
      "4 c\n",
      "5 a\n",
      "5 b\n",
      "5 c\n",
      "6 a\n",
      "6 b\n",
      "6 c\n"
     ]
    }
   ],
   "source": [
    "nums = [1,2,3,4,5,6]\n",
    "\n",
    "for num in nums:\n",
    "    for letter in 'abc':\n",
    "        print(num,letter) "
   ]
  },
  {
   "cell_type": "code",
   "execution_count": 159,
   "id": "cb650414",
   "metadata": {},
   "outputs": [
    {
     "name": "stdout",
     "output_type": "stream",
     "text": [
      "0\n",
      "2\n",
      "4\n",
      "6\n",
      "8\n",
      "10\n"
     ]
    }
   ],
   "source": [
    "# range(Start,End, Steps)   ---> range's end value will be neglected\n",
    "for i in range(0,11,2):\n",
    "    print(i)\n",
    "    "
   ]
  },
  {
   "cell_type": "markdown",
   "id": "d818b64c",
   "metadata": {},
   "source": [
    "#### while Loop - "
   ]
  },
  {
   "cell_type": "code",
   "execution_count": 161,
   "id": "dfb59d61",
   "metadata": {},
   "outputs": [
    {
     "name": "stdout",
     "output_type": "stream",
     "text": [
      "0\n",
      "1\n",
      "2\n",
      "3\n",
      "4\n"
     ]
    }
   ],
   "source": [
    "x = 0\n",
    "while x <10:\n",
    "    if x==5:\n",
    "        break\n",
    "    print(x)\n",
    "    x +=1"
   ]
  },
  {
   "cell_type": "markdown",
   "id": "7b35a734",
   "metadata": {},
   "source": [
    "# Functions"
   ]
  },
  {
   "cell_type": "code",
   "execution_count": 166,
   "id": "09993bea",
   "metadata": {},
   "outputs": [],
   "source": [
    "def hello_func():\n",
    "    print(\"hello ...!!!\")\n",
    "    "
   ]
  },
  {
   "cell_type": "code",
   "execution_count": 167,
   "id": "ef3320c4",
   "metadata": {},
   "outputs": [
    {
     "name": "stdout",
     "output_type": "stream",
     "text": [
      "hello ...!!!\n"
     ]
    }
   ],
   "source": [
    "hello_func()"
   ]
  },
  {
   "cell_type": "code",
   "execution_count": 173,
   "id": "b25a5468",
   "metadata": {},
   "outputs": [],
   "source": [
    "def hello_funct():\n",
    "    print(\"hello ... !!!\")"
   ]
  },
  {
   "cell_type": "code",
   "execution_count": 174,
   "id": "9331c1c6",
   "metadata": {},
   "outputs": [
    {
     "name": "stdout",
     "output_type": "stream",
     "text": [
      "hello ... !!!\n",
      "hello ... !!!\n",
      "hello ... !!!\n",
      "hello ... !!!\n",
      "hello ... !!!\n"
     ]
    }
   ],
   "source": [
    "hello_funct()\n",
    "hello_funct()\n",
    "hello_funct()\n",
    "hello_funct()\n",
    "hello_funct()"
   ]
  },
  {
   "cell_type": "markdown",
   "id": "4178ef50",
   "metadata": {},
   "source": [
    "- This will keep your code DRY - Dont Repeat Yourself!"
   ]
  },
  {
   "cell_type": "code",
   "execution_count": 176,
   "id": "7ea68438",
   "metadata": {},
   "outputs": [],
   "source": [
    "def hello_func():\n",
    "    return 'hello there'\n",
    "\n"
   ]
  },
  {
   "cell_type": "code",
   "execution_count": 178,
   "id": "cf1b0fad",
   "metadata": {},
   "outputs": [
    {
     "data": {
      "text/plain": [
       "'HELLO THERE'"
      ]
     },
     "execution_count": 178,
     "metadata": {},
     "output_type": "execute_result"
    }
   ],
   "source": [
    "hello_func().upper()"
   ]
  },
  {
   "cell_type": "code",
   "execution_count": null,
   "id": "3bcad833",
   "metadata": {},
   "outputs": [],
   "source": [
    "# arguments with functions"
   ]
  },
  {
   "cell_type": "code",
   "execution_count": 190,
   "id": "111e09f2",
   "metadata": {},
   "outputs": [
    {
     "data": {
      "text/plain": [
       "'Hey, Carry .'"
      ]
     },
     "execution_count": 190,
     "metadata": {},
     "output_type": "execute_result"
    }
   ],
   "source": [
    "def hello_fun(greetings,name = 'You'):\n",
    "    return '{}, {} .'.format(greetings,name)\n",
    "\n",
    "hello_fun('Hey', name= 'Carry')"
   ]
  },
  {
   "cell_type": "code",
   "execution_count": 191,
   "id": "b3c30472",
   "metadata": {},
   "outputs": [],
   "source": [
    "## *args & ** kwargs Meaning \n",
    "#   \n",
    "\n",
    "def student_info(*args, **kwargs):\n",
    "    print(args)\n",
    "    print(kwargs)\n",
    "    "
   ]
  },
  {
   "cell_type": "code",
   "execution_count": 203,
   "id": "9d1c5527",
   "metadata": {},
   "outputs": [
    {
     "name": "stdout",
     "output_type": "stream",
     "text": [
      "('math', 'art')\n",
      "{'name': 'john', 'age': 22}\n"
     ]
    }
   ],
   "source": [
    "\n",
    "def student_info(*args, **kwargs):\n",
    "    print(args) \n",
    "    print(kwargs)\n",
    "    \n",
    "    # *args, **kwarg == standard representations for args and kwargs\n",
    "\n",
    "cources = ['math', 'art']\n",
    "info = {'name':'john', 'age':22}\n",
    "\n",
    "student_info(*cources,**info)   # * and ** before the variabel --> unpacked arguments values from the list and dict"
   ]
  },
  {
   "cell_type": "code",
   "execution_count": 204,
   "id": "890525c3",
   "metadata": {},
   "outputs": [],
   "source": [
    "### Problem to test and standard example"
   ]
  },
  {
   "cell_type": "code",
   "execution_count": 207,
   "id": "b3664ff7",
   "metadata": {},
   "outputs": [],
   "source": [
    "# Number of days per month. First value placeholder for indexing purpose.\n",
    "month_days = [0,31,28,31,30,31,30,31,31,30,31,30,31]\n",
    "\n",
    "def is_leap(year):\n",
    "    \"\"\" Returnt True for leap years, False for non-leap year. \"\"\"\n",
    "    \n",
    "    return year % 4 ==0 and (year % 100 != 0 or year % 400 ==0)\n",
    "\n",
    "def days_in_month(year,month):\n",
    "    \"\"\" Returnt number of days in that month in that year. \"\"\"\n",
    "    \n",
    "    if not 1 <= month <= 12:\n",
    "        return 'Invalid Month'\n",
    "    \n",
    "    if month == 2 and is_leap(year):\n",
    "        return 29\n",
    "    \n",
    "    return month_days[month]\n",
    "\n"
   ]
  },
  {
   "cell_type": "code",
   "execution_count": 208,
   "id": "4ffe865b",
   "metadata": {},
   "outputs": [
    {
     "data": {
      "text/plain": [
       "False"
      ]
     },
     "execution_count": 208,
     "metadata": {},
     "output_type": "execute_result"
    }
   ],
   "source": [
    "is_leap(2017)"
   ]
  },
  {
   "cell_type": "code",
   "execution_count": 209,
   "id": "17101d30",
   "metadata": {},
   "outputs": [
    {
     "data": {
      "text/plain": [
       "True"
      ]
     },
     "execution_count": 209,
     "metadata": {},
     "output_type": "execute_result"
    }
   ],
   "source": [
    "is_leap(2020)"
   ]
  },
  {
   "cell_type": "code",
   "execution_count": 210,
   "id": "bc85316f",
   "metadata": {},
   "outputs": [
    {
     "data": {
      "text/plain": [
       "28"
      ]
     },
     "execution_count": 210,
     "metadata": {},
     "output_type": "execute_result"
    }
   ],
   "source": [
    "days_in_month(2017,2)"
   ]
  },
  {
   "cell_type": "code",
   "execution_count": 211,
   "id": "d5d9a7de",
   "metadata": {},
   "outputs": [
    {
     "data": {
      "text/plain": [
       "29"
      ]
     },
     "execution_count": 211,
     "metadata": {},
     "output_type": "execute_result"
    }
   ],
   "source": [
    "days_in_month(2020,2)"
   ]
  },
  {
   "cell_type": "code",
   "execution_count": 212,
   "id": "0e30db63",
   "metadata": {},
   "outputs": [
    {
     "data": {
      "text/plain": [
       "31"
      ]
     },
     "execution_count": 212,
     "metadata": {},
     "output_type": "execute_result"
    }
   ],
   "source": [
    "days_in_month(2021,5)"
   ]
  },
  {
   "cell_type": "markdown",
   "id": "befc8f74",
   "metadata": {},
   "source": [
    "$ NOTE - Explore the Functions topic more...!!! >"
   ]
  },
  {
   "cell_type": "markdown",
   "id": "7853bc90",
   "metadata": {},
   "source": [
    "### Import Modules & Explore Standard Library"
   ]
  },
  {
   "cell_type": "code",
   "execution_count": 2,
   "id": "b4fc327a",
   "metadata": {},
   "outputs": [],
   "source": [
    "#import my_module as mm \n",
    "\n",
    "# Please check the Introduction_to_Module_Import file for further notes"
   ]
  },
  {
   "cell_type": "code",
   "execution_count": null,
   "id": "1cc6d939",
   "metadata": {},
   "outputs": [],
   "source": []
  },
  {
   "cell_type": "code",
   "execution_count": null,
   "id": "02705f87",
   "metadata": {},
   "outputs": [],
   "source": []
  },
  {
   "cell_type": "code",
   "execution_count": null,
   "id": "35dfa4c0",
   "metadata": {},
   "outputs": [],
   "source": []
  },
  {
   "cell_type": "code",
   "execution_count": null,
   "id": "d1b0cbd5",
   "metadata": {},
   "outputs": [],
   "source": []
  },
  {
   "cell_type": "code",
   "execution_count": null,
   "id": "c5db3047",
   "metadata": {},
   "outputs": [],
   "source": []
  },
  {
   "cell_type": "code",
   "execution_count": null,
   "id": "69c9fa3c",
   "metadata": {},
   "outputs": [],
   "source": []
  },
  {
   "cell_type": "code",
   "execution_count": null,
   "id": "5354f727",
   "metadata": {},
   "outputs": [],
   "source": []
  },
  {
   "cell_type": "code",
   "execution_count": null,
   "id": "6876426c",
   "metadata": {},
   "outputs": [],
   "source": []
  },
  {
   "cell_type": "code",
   "execution_count": null,
   "id": "ec5f9869",
   "metadata": {},
   "outputs": [],
   "source": []
  },
  {
   "cell_type": "code",
   "execution_count": null,
   "id": "e1b6405e",
   "metadata": {},
   "outputs": [],
   "source": []
  },
  {
   "cell_type": "code",
   "execution_count": null,
   "id": "93b27b64",
   "metadata": {},
   "outputs": [],
   "source": []
  },
  {
   "cell_type": "code",
   "execution_count": null,
   "id": "ecb0a362",
   "metadata": {},
   "outputs": [],
   "source": []
  },
  {
   "cell_type": "code",
   "execution_count": null,
   "id": "75341391",
   "metadata": {},
   "outputs": [],
   "source": []
  },
  {
   "cell_type": "code",
   "execution_count": null,
   "id": "63fc765c",
   "metadata": {},
   "outputs": [],
   "source": []
  },
  {
   "cell_type": "code",
   "execution_count": null,
   "id": "9090aab1",
   "metadata": {},
   "outputs": [],
   "source": []
  },
  {
   "cell_type": "code",
   "execution_count": null,
   "id": "bae37289",
   "metadata": {},
   "outputs": [],
   "source": []
  },
  {
   "cell_type": "code",
   "execution_count": null,
   "id": "630b4038",
   "metadata": {},
   "outputs": [],
   "source": []
  },
  {
   "cell_type": "code",
   "execution_count": null,
   "id": "3002b077",
   "metadata": {},
   "outputs": [],
   "source": []
  },
  {
   "cell_type": "code",
   "execution_count": null,
   "id": "f6a4f3ca",
   "metadata": {},
   "outputs": [],
   "source": []
  },
  {
   "cell_type": "code",
   "execution_count": null,
   "id": "1e9899fa",
   "metadata": {},
   "outputs": [],
   "source": []
  },
  {
   "cell_type": "code",
   "execution_count": null,
   "id": "dac09085",
   "metadata": {},
   "outputs": [],
   "source": []
  },
  {
   "cell_type": "code",
   "execution_count": null,
   "id": "35797513",
   "metadata": {},
   "outputs": [],
   "source": []
  },
  {
   "cell_type": "code",
   "execution_count": null,
   "id": "d1e01f65",
   "metadata": {},
   "outputs": [],
   "source": []
  },
  {
   "cell_type": "code",
   "execution_count": null,
   "id": "555f359d",
   "metadata": {},
   "outputs": [],
   "source": []
  },
  {
   "cell_type": "code",
   "execution_count": null,
   "id": "dc4eb5fc",
   "metadata": {},
   "outputs": [],
   "source": []
  },
  {
   "cell_type": "code",
   "execution_count": null,
   "id": "9465f310",
   "metadata": {},
   "outputs": [],
   "source": []
  },
  {
   "cell_type": "code",
   "execution_count": null,
   "id": "0da87704",
   "metadata": {},
   "outputs": [],
   "source": []
  }
 ],
 "metadata": {
  "kernelspec": {
   "display_name": "Python 3 (ipykernel)",
   "language": "python",
   "name": "python3"
  },
  "language_info": {
   "codemirror_mode": {
    "name": "ipython",
    "version": 3
   },
   "file_extension": ".py",
   "mimetype": "text/x-python",
   "name": "python",
   "nbconvert_exporter": "python",
   "pygments_lexer": "ipython3",
   "version": "3.11.1"
  }
 },
 "nbformat": 4,
 "nbformat_minor": 5
}
