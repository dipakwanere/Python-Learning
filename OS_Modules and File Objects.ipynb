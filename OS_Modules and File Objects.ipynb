{
 "cells": [
  {
   "cell_type": "markdown",
   "id": "abb936f2",
   "metadata": {},
   "source": [
    "# OS Modules"
   ]
  },
  {
   "cell_type": "code",
   "execution_count": 1,
   "id": "fbb78bfd",
   "metadata": {},
   "outputs": [
    {
     "name": "stdout",
     "output_type": "stream",
     "text": [
      "['DirEntry', 'F_OK', 'GenericAlias', 'Mapping', 'MutableMapping', 'O_APPEND', 'O_BINARY', 'O_CREAT', 'O_EXCL', 'O_NOINHERIT', 'O_RANDOM', 'O_RDONLY', 'O_RDWR', 'O_SEQUENTIAL', 'O_SHORT_LIVED', 'O_TEMPORARY', 'O_TEXT', 'O_TRUNC', 'O_WRONLY', 'P_DETACH', 'P_NOWAIT', 'P_NOWAITO', 'P_OVERLAY', 'P_WAIT', 'PathLike', 'R_OK', 'SEEK_CUR', 'SEEK_END', 'SEEK_SET', 'TMP_MAX', 'W_OK', 'X_OK', '_AddedDllDirectory', '_Environ', '__all__', '__builtins__', '__cached__', '__doc__', '__file__', '__loader__', '__name__', '__package__', '__spec__', '_check_methods', '_execvpe', '_exists', '_exit', '_fspath', '_get_exports_list', '_walk', '_wrap_close', 'abc', 'abort', 'access', 'add_dll_directory', 'altsep', 'chdir', 'chmod', 'close', 'closerange', 'cpu_count', 'curdir', 'defpath', 'device_encoding', 'devnull', 'dup', 'dup2', 'environ', 'error', 'execl', 'execle', 'execlp', 'execlpe', 'execv', 'execve', 'execvp', 'execvpe', 'extsep', 'fdopen', 'fsdecode', 'fsencode', 'fspath', 'fstat', 'fsync', 'ftruncate', 'get_exec_path', 'get_handle_inheritable', 'get_inheritable', 'get_terminal_size', 'getcwd', 'getcwdb', 'getenv', 'getlogin', 'getpid', 'getppid', 'isatty', 'kill', 'linesep', 'link', 'listdir', 'lseek', 'lstat', 'makedirs', 'mkdir', 'name', 'open', 'pardir', 'path', 'pathsep', 'pipe', 'popen', 'putenv', 'read', 'readlink', 'remove', 'removedirs', 'rename', 'renames', 'replace', 'rmdir', 'scandir', 'sep', 'set_handle_inheritable', 'set_inheritable', 'spawnl', 'spawnle', 'spawnv', 'spawnve', 'st', 'startfile', 'stat', 'stat_result', 'statvfs_result', 'strerror', 'supports_bytes_environ', 'supports_dir_fd', 'supports_effective_ids', 'supports_fd', 'supports_follow_symlinks', 'symlink', 'sys', 'system', 'terminal_size', 'times', 'times_result', 'truncate', 'umask', 'uname_result', 'unlink', 'unsetenv', 'urandom', 'utime', 'waitpid', 'waitstatus_to_exitcode', 'walk', 'write']\n"
     ]
    }
   ],
   "source": [
    "import os\n",
    "print(dir(os))"
   ]
  },
  {
   "cell_type": "code",
   "execution_count": 3,
   "id": "93bb53c7",
   "metadata": {},
   "outputs": [
    {
     "name": "stdout",
     "output_type": "stream",
     "text": [
      "C:\\Users\\dipak\\2023\\Python_Corey\n"
     ]
    }
   ],
   "source": [
    "# get current working directory\n",
    "cwd = os.getcwd()\n",
    "print(cwd)"
   ]
  },
  {
   "cell_type": "code",
   "execution_count": 4,
   "id": "fd7e9051",
   "metadata": {},
   "outputs": [
    {
     "name": "stdout",
     "output_type": "stream",
     "text": [
      "['.ipynb_checkpoints', 'Fundamentals.ipynb', 'Introduction_to_Module_Import.ipynb', 'my_module.ipynb', 'OS_Modules.ipynb', '__pycache__']\n"
     ]
    }
   ],
   "source": [
    "print(os.listdir())"
   ]
  },
  {
   "cell_type": "raw",
   "id": "544027d6",
   "metadata": {},
   "source": [
    "# create new directory \n",
    "\n",
    "os.mkdir('Test')   # to create only 1 or top level directory\n",
    "os.mkdirs('Test/sub_dir')   # to create only top and sub level directories inside top level dir (should use)\n",
    "\n",
    "# To remove or delete directory\n",
    " \n",
    "os.rmdir(\"\")  # to delete specific dir or folder (should use)\n",
    "os.removedirs(\"\")  # to delete everything inside that dir\n"
   ]
  },
  {
   "cell_type": "code",
   "execution_count": 6,
   "id": "8f71a499",
   "metadata": {},
   "outputs": [],
   "source": [
    "# To Rename the dir\n",
    "\n",
    "os.rename('dir_name.txt')"
   ]
  },
  {
   "cell_type": "code",
   "execution_count": null,
   "id": "c823b57a",
   "metadata": {},
   "outputs": [],
   "source": [
    "# To get Stat of the file \n",
    "\n",
    "os.stat('dir_name.txt')"
   ]
  },
  {
   "cell_type": "code",
   "execution_count": 12,
   "id": "8cf74fcb",
   "metadata": {},
   "outputs": [
    {
     "name": "stdout",
     "output_type": "stream",
     "text": [
      "/Users/dipak/2023/Python_Corey/\n",
      "--------------------------\n",
      "['.ipynb_checkpoints', '__pycache__']\n",
      "--------------------------\n",
      "['Fundamentals.ipynb', 'Introduction_to_Module_Import.ipynb', 'my_module.ipynb', 'OS_Modules.ipynb']\n",
      "/Users/dipak/2023/Python_Corey/.ipynb_checkpoints\n",
      "--------------------------\n",
      "[]\n",
      "--------------------------\n",
      "['Fundamentals-checkpoint.ipynb', 'Introduction_to_Module_Import-checkpoint.ipynb', 'my_module-checkpoint.ipynb', 'OS_Modules-checkpoint.ipynb']\n",
      "/Users/dipak/2023/Python_Corey/__pycache__\n",
      "--------------------------\n",
      "[]\n",
      "--------------------------\n",
      "['my_module.cpython-39.pyc']\n"
     ]
    }
   ],
   "source": [
    "# walk('filepath/foldername') method --> walks through entire dictories\n",
    "\n",
    "for dirpath, dirnames, filenames in os.walk('/Users/dipak/2023/Python_Corey/'):\n",
    "    print(dirpath)\n",
    "    print('--------------------------')\n",
    "    print(dirnames)\n",
    "    print('--------------------------')\n",
    "    print(filenames)"
   ]
  },
  {
   "cell_type": "raw",
   "id": "c3cb2bd3",
   "metadata": {},
   "source": [
    "# environment variable\n",
    "\n",
    "print(os.environ.get('HOME'))  # 'HOME' = Argument\n",
    "file_path = os.path.join(os.environ.get('HOME'),'test.txt')\n",
    "print(file_path)"
   ]
  },
  {
   "cell_type": "markdown",
   "id": "cf77ebe4",
   "metadata": {},
   "source": [
    "### useful OS Module Methods"
   ]
  },
  {
   "cell_type": "code",
   "execution_count": 22,
   "id": "38600a3c",
   "metadata": {},
   "outputs": [
    {
     "data": {
      "text/plain": [
       "('Test/sub_dir/test', '.txt')"
      ]
     },
     "execution_count": 22,
     "metadata": {},
     "output_type": "execute_result"
    }
   ],
   "source": [
    "##  File Manipulation Method\n",
    "\n",
    "os.path.basename('Test/sub_dir/test.txt')  # just give only file name\n",
    "os.path.dirname('Test/sub_dir/test.txt')  # just give only dir name\n",
    "os.path.split('Test/sub_dir/test.txt')  # to get file name & dir name\n",
    "os.path.exists('Test/sub_dir/test.txt')  # to check the path is available or not\n",
    "os.path.isdir('Test/sub_dir/test.txt')  # To check dir or file\n",
    "os.path.splitext('Test/sub_dir/test.txt')  # Root path and extension will get seperated\n",
    "\n"
   ]
  },
  {
   "cell_type": "code",
   "execution_count": 23,
   "id": "ac0eedfe",
   "metadata": {},
   "outputs": [
    {
     "name": "stdout",
     "output_type": "stream",
     "text": [
      "['__all__', '__builtins__', '__cached__', '__doc__', '__file__', '__loader__', '__name__', '__package__', '__spec__', '_abspath_fallback', '_get_bothseps', '_getfinalpathname', '_getfinalpathname_nonstrict', '_getfullpathname', '_getvolumepathname', '_nt_readlink', '_readlink_deep', 'abspath', 'altsep', 'basename', 'commonpath', 'commonprefix', 'curdir', 'defpath', 'devnull', 'dirname', 'exists', 'expanduser', 'expandvars', 'extsep', 'genericpath', 'getatime', 'getctime', 'getmtime', 'getsize', 'isabs', 'isdir', 'isfile', 'islink', 'ismount', 'join', 'lexists', 'normcase', 'normpath', 'os', 'pardir', 'pathsep', 'realpath', 'relpath', 'samefile', 'sameopenfile', 'samestat', 'sep', 'split', 'splitdrive', 'splitext', 'stat', 'supports_unicode_filenames', 'sys']\n"
     ]
    }
   ],
   "source": [
    "## All the available methods for os.path\n",
    "print(dir(os.path))"
   ]
  },
  {
   "cell_type": "markdown",
   "id": "b254c786",
   "metadata": {},
   "source": [
    "# File Objects"
   ]
  },
  {
   "cell_type": "code",
   "execution_count": 31,
   "id": "cb7e0679",
   "metadata": {},
   "outputs": [
    {
     "name": "stdout",
     "output_type": "stream",
     "text": [
      "test.txt\n"
     ]
    }
   ],
   "source": [
    "\n",
    "f = open('test.txt','r+')\n",
    "\n",
    "# r = read file\n",
    "# w = write into file\n",
    "# r+ = read and write into file\n",
    "\n",
    "print(f.name)\n",
    "#f.mode\n",
    "\n",
    "f.close()\n"
   ]
  },
  {
   "cell_type": "code",
   "execution_count": 34,
   "id": "6552bcb9",
   "metadata": {},
   "outputs": [
    {
     "name": "stdout",
     "output_type": "stream",
     "text": [
      "\n"
     ]
    }
   ],
   "source": [
    "# Context Manager to open the files\n",
    "\n",
    "with open('test.txt','r+') as f:\n",
    "    for line in f:\n",
    "        print(f.readlines(),end='')\n",
    "    #pass\n",
    "    #f.readlines()\n",
    "    #f.readline()\n",
    "    f_content = f.read()\n",
    "    print(f_content)"
   ]
  },
  {
   "cell_type": "code",
   "execution_count": 35,
   "id": "affd6cb9",
   "metadata": {},
   "outputs": [],
   "source": [
    "# !pip install package_name\n",
    "# !pip show package_name"
   ]
  },
  {
   "cell_type": "code",
   "execution_count": 36,
   "id": "8c89ab81",
   "metadata": {},
   "outputs": [
    {
     "name": "stdout",
     "output_type": "stream",
     "text": [
      "3.9.7 (default, Sep 16 2021, 16:59:28) [MSC v.1916 64 bit (AMD64)]\n",
      "sys.version_info(major=3, minor=9, micro=7, releaselevel='final', serial=0)\n",
      "C:\\Users\\dipak\\anaconda3\\python.exe\n"
     ]
    }
   ],
   "source": [
    "# Get vesion details\n",
    "\n",
    "import sys\n",
    "print(sys.version)\n",
    "print(sys.version_info)\n",
    "print(sys.executable)"
   ]
  },
  {
   "cell_type": "markdown",
   "id": "cd1b7fa8",
   "metadata": {},
   "source": [
    "https://brilliant.org/"
   ]
  },
  {
   "cell_type": "code",
   "execution_count": null,
   "id": "ab68495d",
   "metadata": {},
   "outputs": [],
   "source": []
  },
  {
   "cell_type": "code",
   "execution_count": null,
   "id": "64086851",
   "metadata": {},
   "outputs": [],
   "source": []
  },
  {
   "cell_type": "code",
   "execution_count": null,
   "id": "1f552ec7",
   "metadata": {},
   "outputs": [],
   "source": []
  },
  {
   "cell_type": "code",
   "execution_count": null,
   "id": "97d27448",
   "metadata": {},
   "outputs": [],
   "source": []
  },
  {
   "cell_type": "code",
   "execution_count": null,
   "id": "feee3466",
   "metadata": {},
   "outputs": [],
   "source": []
  },
  {
   "cell_type": "code",
   "execution_count": null,
   "id": "d27fa510",
   "metadata": {},
   "outputs": [],
   "source": []
  },
  {
   "cell_type": "code",
   "execution_count": null,
   "id": "2575f24d",
   "metadata": {},
   "outputs": [],
   "source": []
  },
  {
   "cell_type": "code",
   "execution_count": null,
   "id": "2b098864",
   "metadata": {},
   "outputs": [],
   "source": []
  }
 ],
 "metadata": {
  "kernelspec": {
   "display_name": "Python 3",
   "language": "python",
   "name": "python3"
  },
  "language_info": {
   "codemirror_mode": {
    "name": "ipython",
    "version": 3
   },
   "file_extension": ".py",
   "mimetype": "text/x-python",
   "name": "python",
   "nbconvert_exporter": "python",
   "pygments_lexer": "ipython3",
   "version": "3.11.1 (tags/v3.11.1:a7a450f, Dec  6 2022, 19:58:39) [MSC v.1934 64 bit (AMD64)]"
  },
  "vscode": {
   "interpreter": {
    "hash": "f25925f0e46468490e06266933d82e1daa8bdfa7a2ae0fed3206cd03755650c7"
   }
  }
 },
 "nbformat": 4,
 "nbformat_minor": 5
}
